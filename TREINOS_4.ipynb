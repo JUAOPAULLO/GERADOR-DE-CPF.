{
  "nbformat": 4,
  "nbformat_minor": 0,
  "metadata": {
    "colab": {
      "provenance": [],
      "authorship_tag": "ABX9TyORMcrB4evtIrY3RuHCud0d",
      "include_colab_link": true
    },
    "kernelspec": {
      "name": "python3",
      "display_name": "Python 3"
    },
    "language_info": {
      "name": "python"
    }
  },
  "cells": [
    {
      "cell_type": "markdown",
      "metadata": {
        "id": "view-in-github",
        "colab_type": "text"
      },
      "source": [
        "<a href=\"https://colab.research.google.com/github/JUAOPAULLO/GERADOR-DE-CPF./blob/main/TREINOS_4.ipynb\" target=\"_parent\"><img src=\"https://colab.research.google.com/assets/colab-badge.svg\" alt=\"Open In Colab\"/></a>"
      ]
    },
    {
      "cell_type": "code",
      "execution_count": null,
      "metadata": {
        "id": "h5DE1h1X3ATo"
      },
      "outputs": [],
      "source": [
        "# Desempacotamento em chamadas\n",
        "# de métodos e funções\n",
        "string = 'ABCD'\n",
        "lista = ['Maria', 'Helena', 1, 2, 3, 'Eduarda']\n",
        "tupla = 'Python', 'é', 'legal'\n",
        "salas = [\n",
        "    # 0        1\n",
        "    ['Maria', 'Helena', ],  # 0\n",
        "    # 0\n",
        "    ['Elaine', ],  # 1\n",
        "    # 0       1       2\n",
        "    ['Luiz', 'João', 'Eduarda', ],  # 2\n",
        "]\n",
        "\n",
        "# p, b, *_, ap, u = lista\n",
        "# print(p, u, ap)\n",
        "\n",
        "# print('Maria', 'Helena', 1, 2, 3, 'Eduarda')\n",
        "# print(*lista)\n",
        "# print(*string)\n",
        "# print(*tupla)\n",
        "\n",
        "print(*salas, sep='\\n')"
      ]
    },
    {
      "cell_type": "code",
      "source": [
        "\n",
        "Operação ternária (condicional de uma linha)\n",
        "<valor> if <condicação> else <outro valor>\n",
        "\"\"\"\n",
        "# condição = 10 == 11\n",
        "# variavel = 'Valor' if condicao else 'Outro valor'\n",
        "#imprimir(variavel)\n",
        "# dígito = 9 # > 9 = 0\n",
        "# novo_digito = digito if digito <= 9 else 0\n",
        "# novo_digito = 0 se dígito > 9 else dígito\n",
        "#imprimir(novo_digito)\n",
        "print ( 'Valor'  if  False  else  'Outro valor'  if  False  else  'Fim' )"
      ],
      "metadata": {
        "id": "leLWZO4d_7Fr"
      },
      "execution_count": null,
      "outputs": []
    },
    {
      "cell_type": "code",
      "source": [
        "# EXERCICIO:\n",
        "Calculo do primeiro dígito do CPF\n",
        "CPF: 746.824.890-70\n",
        "Colete a soma dos 9 primeiros dígitos do CPF\n",
        "multiplicando cada um dos valores por uma\n",
        "contagem regressiva começando de 10\n",
        "\n",
        "Ex.:  746.824.890-70 (746824890)\n",
        "   10  9  8  7  6  5  4  3  2\n",
        "*  7   4  6  8  2  4  8  9  0\n",
        "   70  36 48 56 12 20 32 27 0\n",
        "\n",
        "Somar todos os resultados:\n",
        "70+36+48+56+12+20+32+27+0 = 301\n",
        "Multiplicar o resultado anterior por 10\n",
        "301 * 10 = 3010\n",
        "Obter o resto da divisão da conta anterior por 11\n",
        "3010 % 11 = 7\n",
        "Se o resultado anterior for maior que 9:\n",
        "    resultado é 0\n",
        "contrário disso:\n",
        "    resultado é o valor da conta\n",
        "\n",
        "O primeiro dígito do CPF é\n",
        "\n",
        "Calculo do segundo dígito do CPF\n",
        "CPF: 746.824.890-70\n",
        "Colete a soma dos 9 primeiros dígitos do CPF,\n",
        "MAIS O PRIMEIRO DIGITO,\n",
        "multiplicando cada um dos valores por uma\n",
        "contagem regressiva começando de 11\n",
        "\n",
        "Ex.:  746.824.890-70 (7468248907)\n",
        "   11 10  9  8  7  6  5  4  3  2\n",
        "*  7   4  6  8  2  4  8  9  0  7 <-- PRIMEIRO DIGITO\n",
        "   77 40 54 64 14 24 40 36  0 14\n",
        "\n",
        "Somar todos os resultados:\n",
        "77+40+54+64+14+24+40+36+0+14 = 363\n",
        "Multiplicar o resultado anterior por 10\n",
        "363 * 10 = 3630\n",
        "Obter o resto da divisão da conta anterior por 11\n",
        "3630 % 11 = 0\n",
        "Se o resultado anterior for maior que 9:\n",
        "    resultado é 0\n",
        "contrário disso:\n",
        "    resultado é o valor da conta\n",
        "\n",
        "O segundo dígito do CPF é 0\n"
      ],
      "metadata": {
        "id": "K5Hzdt2lCiik"
      },
      "execution_count": null,
      "outputs": []
    },
    {
      "cell_type": "code",
      "source": [
        "import re\n",
        "import sys\n",
        "\n",
        "entrada = input('CPF [746.824.890-70]: ')\n",
        "cpf_enviado_usuario = re.sub(\n",
        "    r'[^0-9]',\n",
        "    '',\n",
        "    entrada\n",
        ")\n",
        "\n",
        "entrada_e_sequencial = entrada == entrada[0] * len(entrada)\n",
        "\n",
        "if entrada_e_sequencial:\n",
        "    print('Você enviou dados sequenciais.')\n",
        "    sys.exit()\n",
        "\n",
        "\n",
        "cpf_enviado_usuario = '746824890'\n",
        "nove_digitos = cpf_enviado_usuario[:9]\n",
        "contador_regresivo_1 = 10\n",
        "\n",
        "resultado_digito_1 = 0\n",
        "for digito_1 in nove_digitos:\n",
        "  resultado_digito_1 += int(digito_1) * contador_regresivo_1\n",
        "  contador_regresivo_1 -= 1\n",
        "  digito_1 = (resultado_digito_1 * 10) % 11\n",
        "  digito_1 = digito_1 if digito_1 <= 9 else 0\n",
        "  print(digito_1)\n",
        "\n",
        "dez_digitos = nove_digitos + str(digito_1)\n",
        "contador_regresivo_2 = 11\n",
        "\n",
        "resultado_digito_2 = 0\n",
        "for digito in dez_digitos:\n",
        "  resultado_digito_2 += int(digito) * contador_regresivo_2\n",
        "  contador_regresivo_2 -= 1\n",
        "  digito_2 = (resultado_digito_2 * 10) % 11\n",
        "  digito_2 = digito_2 if digito_2 <= 9 else 0\n",
        "\n",
        "cpf_gerado_pelo_calculo = f'{nove_digitos}{digito_1}{digito_2}'\n",
        "\n",
        "if cpf_enviado_usuario == cpf_gerado_pelo_calculo:\n",
        "  print(f'{cpf_eviado_pelo_usuario} é valido')\n",
        "else:\n",
        "  print('CPF é invalido')\n",
        "\n"
      ],
      "metadata": {
        "id": "Ga7sQR_vIyPH"
      },
      "execution_count": null,
      "outputs": []
    }
  ]
}